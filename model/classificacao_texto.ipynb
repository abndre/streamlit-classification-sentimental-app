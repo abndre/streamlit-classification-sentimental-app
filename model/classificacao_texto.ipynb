{
 "cells": [
  {
   "cell_type": "code",
   "execution_count": 1,
   "metadata": {},
   "outputs": [],
   "source": [
    "import pandas as pd"
   ]
  },
  {
   "cell_type": "code",
   "execution_count": 2,
   "metadata": {},
   "outputs": [],
   "source": [
    "df = pd.read_csv(\"../data/imdb-reviews-pt-br.zip\")"
   ]
  },
  {
   "cell_type": "code",
   "execution_count": 3,
   "metadata": {},
   "outputs": [
    {
     "data": {
      "text/plain": [
       "(49459, 4)"
      ]
     },
     "execution_count": 3,
     "metadata": {},
     "output_type": "execute_result"
    }
   ],
   "source": [
    "df.shape"
   ]
  },
  {
   "cell_type": "code",
   "execution_count": 4,
   "metadata": {},
   "outputs": [
    {
     "data": {
      "text/plain": [
       "array(['neg', 'pos'], dtype=object)"
      ]
     },
     "execution_count": 4,
     "metadata": {},
     "output_type": "execute_result"
    }
   ],
   "source": [
    "df.sentiment.unique()"
   ]
  },
  {
   "cell_type": "code",
   "execution_count": 5,
   "metadata": {},
   "outputs": [],
   "source": [
    "df['label'] = df.sentiment.apply(lambda x: 0 if x =='neg' else 1)"
   ]
  },
  {
   "cell_type": "code",
   "execution_count": 6,
   "metadata": {},
   "outputs": [
    {
     "data": {
      "text/html": [
       "<div>\n",
       "<style scoped>\n",
       "    .dataframe tbody tr th:only-of-type {\n",
       "        vertical-align: middle;\n",
       "    }\n",
       "\n",
       "    .dataframe tbody tr th {\n",
       "        vertical-align: top;\n",
       "    }\n",
       "\n",
       "    .dataframe thead th {\n",
       "        text-align: right;\n",
       "    }\n",
       "</style>\n",
       "<table border=\"1\" class=\"dataframe\">\n",
       "  <thead>\n",
       "    <tr style=\"text-align: right;\">\n",
       "      <th></th>\n",
       "      <th>id</th>\n",
       "      <th>text_en</th>\n",
       "      <th>text_pt</th>\n",
       "      <th>sentiment</th>\n",
       "      <th>label</th>\n",
       "    </tr>\n",
       "  </thead>\n",
       "  <tbody>\n",
       "    <tr>\n",
       "      <th>49454</th>\n",
       "      <td>49456</td>\n",
       "      <td>Seeing as the vote average was pretty low, and...</td>\n",
       "      <td>Como a média de votos era muito baixa, e o fat...</td>\n",
       "      <td>pos</td>\n",
       "      <td>1</td>\n",
       "    </tr>\n",
       "    <tr>\n",
       "      <th>49455</th>\n",
       "      <td>49457</td>\n",
       "      <td>The plot had some wretched, unbelievable twist...</td>\n",
       "      <td>O enredo teve algumas reviravoltas infelizes e...</td>\n",
       "      <td>pos</td>\n",
       "      <td>1</td>\n",
       "    </tr>\n",
       "    <tr>\n",
       "      <th>49456</th>\n",
       "      <td>49458</td>\n",
       "      <td>I am amazed at how this movieand most others h...</td>\n",
       "      <td>Estou espantado com a forma como este filme e ...</td>\n",
       "      <td>pos</td>\n",
       "      <td>1</td>\n",
       "    </tr>\n",
       "    <tr>\n",
       "      <th>49457</th>\n",
       "      <td>49459</td>\n",
       "      <td>A Christmas Together actually came before my t...</td>\n",
       "      <td>A Christmas Together realmente veio antes do m...</td>\n",
       "      <td>pos</td>\n",
       "      <td>1</td>\n",
       "    </tr>\n",
       "    <tr>\n",
       "      <th>49458</th>\n",
       "      <td>49460</td>\n",
       "      <td>Working-class romantic drama from director Mar...</td>\n",
       "      <td>O drama romântico da classe trabalhadora do di...</td>\n",
       "      <td>pos</td>\n",
       "      <td>1</td>\n",
       "    </tr>\n",
       "  </tbody>\n",
       "</table>\n",
       "</div>"
      ],
      "text/plain": [
       "          id                                            text_en  \\\n",
       "49454  49456  Seeing as the vote average was pretty low, and...   \n",
       "49455  49457  The plot had some wretched, unbelievable twist...   \n",
       "49456  49458  I am amazed at how this movieand most others h...   \n",
       "49457  49459  A Christmas Together actually came before my t...   \n",
       "49458  49460  Working-class romantic drama from director Mar...   \n",
       "\n",
       "                                                 text_pt sentiment  label  \n",
       "49454  Como a média de votos era muito baixa, e o fat...       pos      1  \n",
       "49455  O enredo teve algumas reviravoltas infelizes e...       pos      1  \n",
       "49456  Estou espantado com a forma como este filme e ...       pos      1  \n",
       "49457  A Christmas Together realmente veio antes do m...       pos      1  \n",
       "49458  O drama romântico da classe trabalhadora do di...       pos      1  "
      ]
     },
     "execution_count": 6,
     "metadata": {},
     "output_type": "execute_result"
    }
   ],
   "source": [
    "df.tail(5)"
   ]
  },
  {
   "cell_type": "markdown",
   "metadata": {},
   "source": [
    "# Testando o modelo com acuracia"
   ]
  },
  {
   "cell_type": "code",
   "execution_count": 7,
   "metadata": {},
   "outputs": [
    {
     "name": "stdout",
     "output_type": "stream",
     "text": [
      "A precisão é: 0.843509906995552\n"
     ]
    }
   ],
   "source": [
    "from sklearn.feature_extraction.text import CountVectorizer\n",
    "from sklearn.naive_bayes import MultinomialNB\n",
    "from sklearn.model_selection import train_test_split\n",
    "\n",
    "\n",
    "# Dados de treinamento (texto e suas respectivas labels)\n",
    "text_data = df.text_pt.values\n",
    "labels = df.label.values\n",
    "\n",
    "# Divide os dados em treinamento e teste\n",
    "text_train, text_test, labels_train, labels_test = train_test_split(text_data, labels, test_size=0.2)\n",
    "\n",
    "# Cria o objeto de vetorização de texto\n",
    "vectorizer = CountVectorizer()\n",
    "\n",
    "# Transforma o texto em um vetor de recursos\n",
    "text_train_vectors = vectorizer.fit_transform(text_train)\n",
    "text_test_vectors = vectorizer.transform(text_test)\n",
    "\n",
    "# Cria o classificador\n",
    "clf = MultinomialNB()\n",
    "\n",
    "# Treina o classificador\n",
    "clf.fit(text_train_vectors, labels_train)\n",
    "\n",
    "# Faz a previsão com os dados de teste\n",
    "prediction = clf.predict(text_test_vectors)\n",
    "\n",
    "# Calcula a precisão\n",
    "accuracy = sum(prediction == labels_test) / len(labels_test)\n",
    "\n",
    "print(\"A precisão é:\", accuracy)"
   ]
  },
  {
   "cell_type": "markdown",
   "metadata": {},
   "source": [
    "# Matriz de confusão"
   ]
  },
  {
   "cell_type": "code",
   "execution_count": 8,
   "metadata": {},
   "outputs": [],
   "source": [
    "from sklearn.metrics import confusion_matrix\n",
    "import matplotlib.pyplot as plt\n",
    "import numpy as np\n",
    "# Faz as previsões com os dados de teste\n",
    "predictions = clf.predict(text_test_vectors)\n",
    "\n",
    "# Gera a matriz de confusão\n",
    "cm = confusion_matrix(labels_test, predictions)\n",
    "\n"
   ]
  },
  {
   "cell_type": "code",
   "execution_count": 9,
   "metadata": {},
   "outputs": [
    {
     "data": {
      "text/plain": [
       "array([[4354,  633],\n",
       "       [ 915, 3990]], dtype=int64)"
      ]
     },
     "execution_count": 9,
     "metadata": {},
     "output_type": "execute_result"
    }
   ],
   "source": [
    "cm"
   ]
  },
  {
   "cell_type": "code",
   "execution_count": 10,
   "metadata": {},
   "outputs": [
    {
     "data": {
      "text/plain": [
       "0.843509906995552"
      ]
     },
     "execution_count": 10,
     "metadata": {},
     "output_type": "execute_result"
    }
   ],
   "source": [
    "from sklearn.metrics import accuracy_score\n",
    "accuracy_score(labels_test, predictions)"
   ]
  },
  {
   "cell_type": "markdown",
   "metadata": {},
   "source": [
    "# GridSearchCV"
   ]
  },
  {
   "cell_type": "code",
   "execution_count": 16,
   "metadata": {},
   "outputs": [
    {
     "name": "stdout",
     "output_type": "stream",
     "text": [
      "Melhores parâmetros encontrados:  {'alpha': 2.0}\n",
      "Acurácia:  0.8902525324005742\n"
     ]
    }
   ],
   "source": [
    "from sklearn.model_selection import GridSearchCV\n",
    "\n",
    "# Dados de treinamento (texto e suas respectivas labels)\n",
    "text_data = df.text_pt.values\n",
    "labels = df.label.values\n",
    "\n",
    "# Cria o objeto de vetorização de texto\n",
    "vectorizer = CountVectorizer()\n",
    "\n",
    "# Transforma o texto em um vetor de recursos\n",
    "text_vectors = vectorizer.fit_transform(text_data)\n",
    "\n",
    "# Define a lista de parâmetros a serem testados\n",
    "parameters = {'alpha': [0.1, 0.5, 1.0, 2.0]}\n",
    "\n",
    "# Cria o classificador\n",
    "clf = MultinomialNB()\n",
    "\n",
    "# Instância o GridSearchCV\n",
    "grid_search = GridSearchCV(clf, parameters, cv=5)\n",
    "\n",
    "# Treina o modelo com o GridSearchCV\n",
    "grid_search.fit(text_vectors, labels)\n",
    "\n",
    "# Imprime os melhores parâmetros encontrados pelo GridSearchCV\n",
    "print(\"Melhores parâmetros encontrados: \", grid_search.best_params_)\n",
    "\n",
    "# Faz as previsões com o melhor modelo encontrado pelo GridSearchCV\n",
    "predictions = grid_search.predict(text_vectors)\n",
    "\n",
    "# Imprime a acurácia do modelo\n",
    "print(\"Acurácia: \", np.mean(predictions == labels))"
   ]
  },
  {
   "cell_type": "markdown",
   "metadata": {},
   "source": [
    "# validação cruzada"
   ]
  },
  {
   "cell_type": "code",
   "execution_count": 11,
   "metadata": {},
   "outputs": [
    {
     "name": "stdout",
     "output_type": "stream",
     "text": [
      "Média da precisão: 0.8025635410609695\n",
      "Desvio padrão da precisão: 0.007609498524722115\n"
     ]
    },
    {
     "data": {
      "text/plain": [
       "'\\nNeste exemplo, a validação cruzada é feita usando a função cross_val_score do scikit-learn.\\n A precisão é avaliada com 5 conjuntos de treinamento e teste (isto pode ser ajustado alterando o parâmetro cv). \\n O resultado é a média da precisão e o desvio padrão da precisão.\\n'"
      ]
     },
     "execution_count": 11,
     "metadata": {},
     "output_type": "execute_result"
    }
   ],
   "source": [
    "from sklearn.model_selection import cross_val_score\n",
    "\n",
    "# Dados de treinamento (texto e suas respectivas labels)\n",
    "text_data = df.text_pt.values\n",
    "labels = df.label.values\n",
    "\n",
    "# Cria o objeto de vetorização de texto\n",
    "vectorizer = CountVectorizer()\n",
    "\n",
    "# Transforma o texto em um vetor de recursos\n",
    "text_vectors = vectorizer.fit_transform(text_data)\n",
    "\n",
    "# Cria o classificador\n",
    "clf = MultinomialNB()\n",
    "\n",
    "# Faz a validação cruzada\n",
    "scores = cross_val_score(clf, text_vectors, labels, cv=5)\n",
    "\n",
    "print(\"Média da precisão:\", scores.mean())\n",
    "print(\"Desvio padrão da precisão:\", scores.std())\n",
    "\n",
    "'''\n",
    "Neste exemplo, a validação cruzada é feita usando a função cross_val_score do scikit-learn.\n",
    " A precisão é avaliada com 5 conjuntos de treinamento e teste (isto pode ser ajustado alterando o parâmetro cv). \n",
    " O resultado é a média da precisão e o desvio padrão da precisão.\n",
    "'''"
   ]
  },
  {
   "cell_type": "code",
   "execution_count": 19,
   "metadata": {},
   "outputs": [
    {
     "data": {
      "text/plain": [
       "2.0"
      ]
     },
     "execution_count": 19,
     "metadata": {},
     "output_type": "execute_result"
    }
   ],
   "source": [
    "grid_search.best_params_['alpha']"
   ]
  },
  {
   "cell_type": "code",
   "execution_count": 20,
   "metadata": {},
   "outputs": [
    {
     "data": {
      "text/plain": [
       "MultinomialNB(alpha=2.0)"
      ]
     },
     "execution_count": 20,
     "metadata": {},
     "output_type": "execute_result"
    }
   ],
   "source": [
    "# Dados de treinamento (texto e suas respectivas labels)\n",
    "text_data = df.text_pt.values\n",
    "labels = df.label.values\n",
    "\n",
    "# Cria o objeto de vetorização de texto\n",
    "vectorizer = CountVectorizer()\n",
    "\n",
    "# Transforma o texto em um vetor de recursos\n",
    "text_vectors = vectorizer.fit_transform(text_data)\n",
    "\n",
    "# Cria o classificador\n",
    "# Melhores parâmetros encontrados:  {'alpha': 2.0}\n",
    "clf = MultinomialNB(alpha=grid_search.best_params_['alpha'])\n",
    "\n",
    "# Treina o classificador\n",
    "clf.fit(text_vectors, labels)"
   ]
  },
  {
   "cell_type": "code",
   "execution_count": 21,
   "metadata": {},
   "outputs": [
    {
     "name": "stdout",
     "output_type": "stream",
     "text": [
      "A previsão é: 1\n"
     ]
    }
   ],
   "source": [
    "# Dados de teste (texto)\n",
    "new_text = [\"Hoje é um bom dia\"]\n",
    "\n",
    "# Transforma o novo texto em um vetor de recursos\n",
    "new_text_vector = vectorizer.transform(new_text)\n",
    "\n",
    "# Faz a previsão\n",
    "prediction = clf.predict(new_text_vector)\n",
    "\n",
    "print(\"A previsão é:\", prediction[0])"
   ]
  },
  {
   "cell_type": "code",
   "execution_count": 22,
   "metadata": {},
   "outputs": [
    {
     "name": "stdout",
     "output_type": "stream",
     "text": [
      "A previsão é: 0\n"
     ]
    }
   ],
   "source": [
    "# Dados de teste (texto)\n",
    "new_text = [\"Hoje o dia está muito ruim\"]\n",
    "\n",
    "# Transforma o novo texto em um vetor de recursos\n",
    "new_text_vector = vectorizer.transform(new_text)\n",
    "\n",
    "# Faz a previsão\n",
    "prediction = clf.predict(new_text_vector)\n",
    "\n",
    "print(\"A previsão é:\", prediction[0])"
   ]
  },
  {
   "cell_type": "code",
   "execution_count": 23,
   "metadata": {},
   "outputs": [
    {
     "data": {
      "text/plain": [
       "['vectorizer.pkl']"
      ]
     },
     "execution_count": 23,
     "metadata": {},
     "output_type": "execute_result"
    }
   ],
   "source": [
    "import joblib\n",
    "# Salva o modelo e o vetorizador\n",
    "joblib.dump(clf, 'model.pkl')\n",
    "joblib.dump(vectorizer, 'vectorizer.pkl')"
   ]
  },
  {
   "cell_type": "code",
   "execution_count": null,
   "metadata": {},
   "outputs": [],
   "source": []
  },
  {
   "cell_type": "code",
   "execution_count": null,
   "metadata": {},
   "outputs": [],
   "source": []
  }
 ],
 "metadata": {
  "kernelspec": {
   "display_name": "Python 3 (ipykernel)",
   "language": "python",
   "name": "python3"
  },
  "language_info": {
   "codemirror_mode": {
    "name": "ipython",
    "version": 3
   },
   "file_extension": ".py",
   "mimetype": "text/x-python",
   "name": "python",
   "nbconvert_exporter": "python",
   "pygments_lexer": "ipython3",
   "version": "3.9.13"
  },
  "vscode": {
   "interpreter": {
    "hash": "7ad4ad0cc8e7497239c1f48dc0d6ae44748d2c89bc5d54956fc732c35f1cd8d3"
   }
  }
 },
 "nbformat": 4,
 "nbformat_minor": 2
}
